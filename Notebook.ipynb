{
 "cells": [
  {
   "cell_type": "code",
   "execution_count": 1,
   "metadata": {},
   "outputs": [
    {
     "data": {
      "image/png": "[encoded data removed]",
      "text/plain": [
       "<Figure size 432x288 with 1 Axes>"
      ]
     },
     "metadata": {
      "needs_background": "light"
     },
     "output_type": "display_data"
    }
   ],
   "source": [
    "#Reproduction de la figure 2 Lejeune et Al.(2003)\n",
    "import matplotlib.pyplot as plt\n",
    "import math\n",
    "import numpy as np\n",
    "\n",
    "abscisse=0\n",
    "x=[]\n",
    "y1=[]\n",
    "y2=[]\n",
    "y3=[]\n",
    "pas = 0.1\n",
    "lambda1=1\n",
    "lambda2=2\n",
    "lambda3=0.2\n",
    "\n",
    "def rho_pl(lam, x):\n",
    "    y = (lam-1)+math.sqrt(((lam-1)**2)+4*(1-x))\n",
    "    y = y/2\n",
    "    return y\n",
    "def rho_min(lam, x):\n",
    "    y = (lam-1)-math.sqrt(((lam-1)**2)+4*(1-x))\n",
    "    y = y/2\n",
    "    return y\n",
    "\n",
    "for k in range(0,100):\n",
    "    x.append(abscisse)\n",
    "    y1.append(rho_pl(abscisse, lambda1))\n",
    "    #y2.append(rho_min(abscisse, lambda2))\n",
    "    y3.append(rho_pl(abscisse, lambda3))\n",
    "    \n",
    "    abscisse += pas\n",
    "    \n",
    "#figure = plt.figure(figsize = (10,8))\n",
    "plt.plot([0,0], linestyle='--', label=\"instable\")\n",
    "plt.plot(x, y1, label=\"$\\Lambda=1$\")\n",
    "#plt.plot(x, y2, label=\"$\\Lambda > 1$\")\n",
    "plt.plot(x, y3, label=\"$\\Lambda < 1$\")\n",
    "plt.xlim(0,1.3)\n",
    "plt.ylim(0,1.3)\n",
    "plt.xlabel(\"$\\mu$\")\n",
    "plt.ylabel(\"rho\")\n",
    "plt.title(\"Figure 2\")\n",
    "plt.legend()\n",
    "plt.savefig(\"figure2.png\")\n",
    "plt.show()\n"
   ]
  },
  {
   "cell_type": "code",
   "execution_count": null,
   "metadata": {},
   "outputs": [],
   "source": []
  },
  {
   "cell_type": "code",
   "execution_count": null,
   "metadata": {},
   "outputs": [],
   "source": []
  }
 ],
 "metadata": {
  "kernelspec": {
   "display_name": "Python 3",
   "language": "python",
   "name": "python3"
  },
  "language_info": {
   "codemirror_mode": {
    "name": "ipython",
    "version": 3
   },
   "file_extension": ".py",
   "mimetype": "text/x-python",
   "name": "python",
   "nbconvert_exporter": "python",
   "pygments_lexer": "ipython3",
   "version": "3.8.5"
  }
 },
 "nbformat": 4,
 "nbformat_minor": 4
}
